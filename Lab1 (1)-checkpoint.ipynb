{
 "cells": [
  {
   "cell_type": "markdown",
   "metadata": {
    "id": "N7ujyF7t7ftU"
   },
   "source": [
    "# CIS 443-01 - Analytics Programming\n",
    "## Lab 1\n",
    "__Grading ID__: F0000 (double click the cell in Jupyter to edit, find ID in Blackboard Gradebook)<br>\n",
    "__Due__: Monday, September 5 (by 11:59 PM)<br />\n",
    "__Worth__: 25 pts."
   ]
  },
  {
   "cell_type": "markdown",
   "metadata": {
    "id": "O3yW8iNL7ftY"
   },
   "source": [
    "### Directions\n",
    "In the code cell below, write Python code to accomplish the following using what you've learned through Chapter 2. Prompt the user to enter a whole dollar amount (from 1 - 99 for this application) to be withdrawn from our virtual ATM. Use the input gathering techniques demonstrated in Section 2.6 to gather this input. For the moment, you may assume that the user follows your directions for the input (namely, entering an integer between 1 and 99 inclusive). Calculate and print the number of bills of each denomination (twenties, tens, fives, and ones) that should be dispensed, minimizing the total number of bills used. Start with twenties and work your way down to ones. If no bills of a particular denomination are needed, skip that bill in the output using `if` statements as demonstrated in Section 2.7 of the text. (25 pts.)\n",
    "### Sample Output\n",
    "<div class=\"alert alert-block alert-info\">\n",
    "    Welcome to the CIS 443 Virtual ATM!<br />\n",
    "    Enter whole dollar amount (1 - 99): 94<br /><br />\n",
    "    Dispense:<br />\n",
    "    4 twenties<br />\n",
    "    1 tens<br />\n",
    "    4 ones<br />\n",
    "</div>\n",
    "\n",
    "**Note**: No _fives_ are printed in the above example because the entered dollar amount didn't require any. Your code, however, must include logic for every denomination (twenties, tens, fives, and ones). An easy way to approach this problem is with the use of floor division (//) and remainder (%) operations."
   ]
  },
  {
   "cell_type": "code",
   "execution_count": 9,
   "metadata": {
    "id": "hbVAutvP7ftZ"
   },
   "outputs": [
    {
     "name": "stdout",
     "output_type": "stream",
     "text": [
      "Welcome to the CIS 443 Virtual ATM!\n",
      "Enter whole dollar amount (1-99): 78\n",
      "Dispense\n",
      "3 twenties\n",
      "1 tens\n",
      "1 fives\n",
      "3 ones\n"
     ]
    }
   ],
   "source": [
    "# lab 1 Grade Id: f5055\n",
    "# Due: Sep 5th 2022\n",
    "#This lab represents a virtual ATM where customers can take up to 99 dollars out of their account. \n",
    "#This lad is designed to make the application dispense as few bills as possible so in order of 20s , 10s, 5s ,and 1s.\n",
    "\n",
    "print(\"Welcome to the CIS 443 Virtual ATM!\") #print that is read by user\n",
    "amount=int(input('Enter whole dollar amount (1-99): ')) #read by user and they follow its instructions\n",
    "print('Dispense: ') #where the dispensed money bills is shown\n",
    "a=20 #amount to divide by to get as many tweenties as possible\n",
    "b=10 #ammount to divide by to get as many tens as possible\n",
    "c=amount%a #variable of remainder for user inputed amount divided by 20.\n",
    "d=5 #amount divided by to get as many fives as possible.\n",
    "e=1 #amount divded by to get as many ones as possible.\n",
    "\n",
    "\n",
    "print(amount//a, 'twenties') #The amount inputted by user is divided with floor division to dispense as many $20 as possible\n",
    "print(amount%a//b, 'tens') # we take the remainder of amount enter by user to dispense next largest bill which is $10\n",
    "print((c%b)//d, 'fives') #we take the remainder after dispensing all the 10s and do floor division to dispense any $5\n",
    "print((((amount%a)%b)%d)//e, 'ones') #we take the remainder of the tens, the fives and \n",
    "                                    #do floor divison to dispense the rest in ones."
   ]
  },
  {
   "cell_type": "markdown",
   "metadata": {
    "id": "Cx9ButDL7ftb"
   },
   "source": [
    "Be sure to save and exit your Jupyter Notebook and Shutdown Jupyter Lab (from the __File__ menu) if using Ananconda before you submit your notebook on Blackboard for grading. If using Colab, be sure to Download (from the __File__ menu) back to your local file system before submitting to Blackboard.\n",
    "Make sure you don't submit the empty starting notebook by accident."
   ]
  }
 ],
 "metadata": {
  "colab": {
   "collapsed_sections": [],
   "name": "Lab1.ipynb",
   "provenance": []
  },
  "kernelspec": {
   "display_name": "Python 3 (ipykernel)",
   "language": "python",
   "name": "python3"
  },
  "language_info": {
   "codemirror_mode": {
    "name": "ipython",
    "version": 3
   },
   "file_extension": ".py",
   "mimetype": "text/x-python",
   "name": "python",
   "nbconvert_exporter": "python",
   "pygments_lexer": "ipython3",
   "version": "3.9.12"
  }
 },
 "nbformat": 4,
 "nbformat_minor": 1
}
