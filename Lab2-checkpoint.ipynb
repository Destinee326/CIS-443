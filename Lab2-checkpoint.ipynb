{
 "cells": [
  {
   "cell_type": "markdown",
   "metadata": {},
   "source": [
    "# CIS 443-01 - Analytics Programming\n",
    "## Lab 2\n",
    "__Grading ID__: F0000 (double click the cell in Jupyter to edit, find ID in Blackboard Gradebook)<br>\n",
    "__Due__: Monday, September 12 (by 11:59 PM)<br />\n",
    "__Worth__: 25 pts."
   ]
  },
  {
   "cell_type": "markdown",
   "metadata": {},
   "source": [
    "### Directions\n",
    "Exercise 3.11, p. 113 (Miles Per Gallon) Drivers are concerned with the mileage obtained by their automobiles. One driver has kept track of several tankfuls of gasoline by recording miles driven and gallons used for each tankful. Develop a sentinel-controlled-repetition script that prompts the user to input the miles driven and gallons used for each tankful. The script should calculate and display the miles per gallon obtained for each tankful. After processing all input information, the script should calculate and display the combined miles per gallon obtained for all tankfuls (that is, total miles driven divided by total gallons used). Sample output appears below. (25 pts.)<br>\n",
    "<div class=\"alert alert-block alert-info\">\n",
    "Enter the gallons used (-1 to end): 12.8<br>\n",
    "Enter the miles driven: 287<br>\n",
    "The miles/gallon for this tank was 22.421875<br>\n",
    "Enter the gallons used (-1 to end): 10.3<br>\n",
    "Enter the miles driven: 200<br>\n",
    "The miles/gallon for this tank was 19.417475<br>\n",
    "Enter the gallons used (-1 to end): 5<br>\n",
    "Enter the miles driven: 120<br>\n",
    "The miles/gallon for this tank was 24.000000<br>\n",
    "Enter the gallons used (-1 to end): -1<br>\n",
    "The overall average miles/gallon was 21.601423\n",
    "</div>"
   ]
  },
  {
   "cell_type": "code",
   "execution_count": 1,
   "metadata": {},
   "outputs": [
    {
     "name": "stdout",
     "output_type": "stream",
     "text": [
      "Enter the gallon used(-1 to end):12.8\n",
      "Enter miles driven:287\n",
      "The miles/gallon for this tank was 22.421875\n",
      "Enter the gallon used(-1 to end):10.3\n",
      "Enter miles driven:200\n",
      "The miles/gallon for this tank was 19.41747572815534\n",
      "Enter the gallon used(-1 to end):5\n",
      "Enter miles driven:120\n",
      "The miles/gallon for this tank was 24.0\n",
      "Enter the gallon used(-1 to end):-1\n",
      "Enter miles driven:-1\n",
      "The miles/gallon for this tank was 1.0\n",
      "The overall average miles/gallon was 21.946450242718445\n"
     ]
    }
   ],
   "source": [
    "# Lab2 \n",
    "# due: Sep 5th 2022\n",
    "# This lab allows drivers to keep track of miles driven and gallon used\n",
    "\n",
    "total= 0\n",
    "gallon_counter=0 #number of gallons entered \n",
    "\n",
    "gallon= float(input('Enter the gallon used(-1 to end):')) #user enters gallon used here\n",
    "miles= int(input('Enter miles driven:')) #user enter miles driven here\n",
    "miles_gallon= miles/gallon #calculates miles driver per gallon\n",
    "print('The miles/gallon for this tank was {}' .format(miles_gallon))  # output miles per gallon\n",
    "\n",
    "\n",
    "while gallon != -1: #will run as long as gallon input is not -1\n",
    "    total +=miles_gallon #add curent miles per gallon to running total\n",
    "    gallon_counter +=1  #indicates that more gallon was processed\n",
    "    gallon= float(input('Enter the gallon used(-1 to end):')) #user enters gallon used here\n",
    "    miles= int(input('Enter miles driven:'))  #user enter miles driven here\n",
    "    miles_gallon= miles/gallon #calculates miles driver per gallon\n",
    "    print('The miles/gallon for this tank was {}' .format(miles_gallon)) # output miles per gallon\n",
    "    \n",
    "if gallon_counter !=0: \n",
    "    average = total/gallon_counter # does calculation \n",
    "    print('The overall average miles/gallon was {}'.format(average)) #average of miles over gallon\n",
    "  \n"
   ]
  },
  {
   "cell_type": "markdown",
   "metadata": {},
   "source": [
    "Be sure to save and exit your Jupyter Notebook and Shutdown Jupyter Lab (from the __File__ menu) if using Ananconda before you submit your notebook on Blackboard for grading. If using Colab, be sure to Download (from the __File__ menu) back to your local file system before submitting to Blackboard.\n",
    "Make sure you don't submit the empty starting notebook by accident."
   ]
  }
 ],
 "metadata": {
  "kernelspec": {
   "display_name": "Python 3 (ipykernel)",
   "language": "python",
   "name": "python3"
  },
  "language_info": {
   "codemirror_mode": {
    "name": "ipython",
    "version": 3
   },
   "file_extension": ".py",
   "mimetype": "text/x-python",
   "name": "python",
   "nbconvert_exporter": "python",
   "pygments_lexer": "ipython3",
   "version": "3.9.12"
  }
 },
 "nbformat": 4,
 "nbformat_minor": 4
}
