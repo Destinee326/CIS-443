{
 "cells": [
  {
   "cell_type": "markdown",
   "metadata": {
    "id": "W86Gco4ysxAg"
   },
   "source": [
    "# CIS 443-01 - Analytics Programming\n",
    "## Lab 5\n",
    "__Grading ID__: F0000 (double click the cell in Jupyter to edit, find ID in Blackboard Gradebook)<br>\n",
    "__Due__: Monday, October 10 (by 11:59 PM)<br />\n",
    "__Worth__: 25 pts."
   ]
  },
  {
   "cell_type": "markdown",
   "metadata": {
    "id": "82bOfebosxAj"
   },
   "source": [
    "### Directions\n",
    "__Exercise 5.7, p. 202 (Duplicate Elimination)__ - *Slightly Modified*. Create a function named `eliminate_dups` that receives a list as a parameter and creates a new list that eliminates any duplicate values, returning this (possibly shorter) list containing only the _unique_ values in sorted order. Test your function with the provided list of numbers and list of strings.\n",
    "\n",
    "**Hint**: Start your function with a new empty list into which you will append values from the list parameter one at a time IF that value isn't already stored in the new list. Use a `for` loop to step through the values in the parameter list and test if each value is already stored in the new list using keyword `in`. When the `for` loop is over, your new list should contain every value in the original parameter list without any duplicates. Return a sorted version of this new list."
   ]
  },
  {
   "cell_type": "code",
   "execution_count": 6,
   "metadata": {
    "colab": {
     "base_uri": "https://localhost:8080/"
    },
    "id": "Ard8T_gdsxAk",
    "outputId": "fc7ab82d-0786-4d9b-a405-477fe691beab"
   },
   "outputs": [
    {
     "name": "stdout",
     "output_type": "stream",
     "text": [
      "[12, 5, 7, 10, 5, 7, 7] contains the following unique values:\n",
      "[5, 7, 10, 12]\n",
      "['hi', 'hello', 'hi', 'bye', 'goodbye', 'bye'] contains the following unique values:\n",
      "['bye', 'goodbye', 'hello', 'hi']\n"
     ]
    }
   ],
   "source": [
    "#LAB 5\n",
    "#F5055\n",
    "#10/10/2022\n",
    "#This lab receives a list as a parameter and creates a new list that eliminates any duplicate values.\n",
    "def eliminate_dups(a_list):\n",
    "  # Put answer here \n",
    "    value_list = [] #creates an empty list\n",
    "    for values in a_list: #iterate each item in defined eliminate_dups.\n",
    "        if values not in value_list:#if value not in value_list it adds to it.\n",
    "            value_list.append(values) #appends values from list one at a time. \n",
    "    value_list.sort() #sort the list\n",
    "    return value_list #returns list\n",
    "\n",
    "\n",
    "    return # Your sorted newly created list here\n",
    "\n",
    "test_list_1 = [5, 7, 10, 5, 7, 7, 12]\n",
    "test_list_2 = ['hi', 'hello', 'hi', 'bye', 'goodbye', 'bye']\n",
    "\n",
    "test_list_1 = [12, 5, 7, 10, 5, 7, 7]\n",
    "test_list_2 = ['hi', 'hello', 'hi', 'bye', 'goodbye', 'bye']\n",
    "\n",
    "# Call the function\n",
    "unique_list_1 = eliminate_dups(test_list_1)\n",
    "unique_list_2 = eliminate_dups(test_list_2)\n",
    "\n",
    "#Output results\n",
    "print(f'{test_list_1} contains the following unique values:')\n",
    "print(unique_list_1)\n",
    "\n",
    "print(f'{test_list_2} contains the following unique values:')\n",
    "print(unique_list_2)\n"
   ]
  },
  {
   "cell_type": "markdown",
   "metadata": {
    "id": "imBPutTRsxAm"
   },
   "source": [
    "Be sure to save and exit your Jupyter Notebook and Shutdown Jupyter Lab (from the __File__ menu) if using Ananconda before you submit your notebook on Blackboard for grading. If using Colab, be sure to Download (from the __File__ menu) back to your local file system before submitting to Blackboard.\n",
    "Make sure you don't submit the empty starting notebook by accident."
   ]
  }
 ],
 "metadata": {
  "colab": {
   "collapsed_sections": [],
   "provenance": []
  },
  "kernelspec": {
   "display_name": "Python 3 (ipykernel)",
   "language": "python",
   "name": "python3"
  },
  "language_info": {
   "codemirror_mode": {
    "name": "ipython",
    "version": 3
   },
   "file_extension": ".py",
   "mimetype": "text/x-python",
   "name": "python",
   "nbconvert_exporter": "python",
   "pygments_lexer": "ipython3",
   "version": "3.9.12"
  }
 },
 "nbformat": 4,
 "nbformat_minor": 1
}
